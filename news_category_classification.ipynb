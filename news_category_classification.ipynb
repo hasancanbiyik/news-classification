{
 "cells": [
  {
   "cell_type": "markdown",
   "id": "4c8babcd-7bd9-403e-98ee-eb1465c682b5",
   "metadata": {},
   "source": [
    "# Introduction to News Category Classification\n",
    "\n",
    "This project tackles a fundamental task in Natural Language Processing (NLP): **text classification**. The primary goal is to build an effective machine learning model that can automatically categorize news articles into one of four labels: **Business, Sports, Crime, or Science.**\n",
    "\n",
    "Throughout this notebook, we will walk through the essential steps of a complete machine learning pipeline. This includes:\n",
    "\n",
    "- Loading and exploring the dataset with `pandas`.\n",
    "- Cleaning the text data using `spaCy` to remove noise.\n",
    "- Handling class imbalance to ensure the model is not biased.\n",
    "- Training and evaluating multiple models from `scikit-learn` to find the best performer."
   ]
  },
  {
   "cell_type": "code",
   "execution_count": 57,
   "id": "c3743501-1e2b-4a48-b8c3-fcbf42fae82c",
   "metadata": {},
   "outputs": [
    {
     "data": {
      "text/html": [
       "<div>\n",
       "<style scoped>\n",
       "    .dataframe tbody tr th:only-of-type {\n",
       "        vertical-align: middle;\n",
       "    }\n",
       "\n",
       "    .dataframe tbody tr th {\n",
       "        vertical-align: top;\n",
       "    }\n",
       "\n",
       "    .dataframe thead th {\n",
       "        text-align: right;\n",
       "    }\n",
       "</style>\n",
       "<table border=\"1\" class=\"dataframe\">\n",
       "  <thead>\n",
       "    <tr style=\"text-align: right;\">\n",
       "      <th></th>\n",
       "      <th>text</th>\n",
       "      <th>category</th>\n",
       "    </tr>\n",
       "  </thead>\n",
       "  <tbody>\n",
       "    <tr>\n",
       "      <th>0</th>\n",
       "      <td>Watching Schrödinger's Cat Die University of C...</td>\n",
       "      <td>SCIENCE</td>\n",
       "    </tr>\n",
       "    <tr>\n",
       "      <th>1</th>\n",
       "      <td>WATCH: Freaky Vortex Opens Up In Flooded Lake</td>\n",
       "      <td>SCIENCE</td>\n",
       "    </tr>\n",
       "    <tr>\n",
       "      <th>2</th>\n",
       "      <td>Entrepreneurs Today Don't Need a Big Budget to...</td>\n",
       "      <td>BUSINESS</td>\n",
       "    </tr>\n",
       "    <tr>\n",
       "      <th>3</th>\n",
       "      <td>These Roads Could Recharge Your Electric Car A...</td>\n",
       "      <td>BUSINESS</td>\n",
       "    </tr>\n",
       "    <tr>\n",
       "      <th>4</th>\n",
       "      <td>Civilian 'Guard' Fires Gun While 'Protecting' ...</td>\n",
       "      <td>CRIME</td>\n",
       "    </tr>\n",
       "  </tbody>\n",
       "</table>\n",
       "</div>"
      ],
      "text/plain": [
       "                                                text  category\n",
       "0  Watching Schrödinger's Cat Die University of C...   SCIENCE\n",
       "1     WATCH: Freaky Vortex Opens Up In Flooded Lake    SCIENCE\n",
       "2  Entrepreneurs Today Don't Need a Big Budget to...  BUSINESS\n",
       "3  These Roads Could Recharge Your Electric Car A...  BUSINESS\n",
       "4  Civilian 'Guard' Fires Gun While 'Protecting' ...     CRIME"
      ]
     },
     "execution_count": 57,
     "metadata": {},
     "output_type": "execute_result"
    }
   ],
   "source": [
    "import pandas as pd\n",
    "\n",
    "df = pd.read_json(\"/Users/hasancan/Downloads/news_dataset.json\")\n",
    "\n",
    "df.head()"
   ]
  },
  {
   "cell_type": "code",
   "execution_count": 58,
   "id": "4232d73f-6231-461e-b023-0b90a3c29b43",
   "metadata": {},
   "outputs": [
    {
     "data": {
      "text/plain": [
       "category\n",
       "BUSINESS    4254\n",
       "SPORTS      4167\n",
       "CRIME       2893\n",
       "SCIENCE     1381\n",
       "Name: count, dtype: int64"
      ]
     },
     "execution_count": 58,
     "metadata": {},
     "output_type": "execute_result"
    }
   ],
   "source": [
    "# Time to check if there is any imbalance!\n",
    "\n",
    "df.category.value_counts() # business and sports are more than the other two categories."
   ]
  },
  {
   "cell_type": "code",
   "execution_count": 59,
   "id": "ae03bed4-a877-44e4-8af2-37ff4e0c9f9a",
   "metadata": {
    "scrolled": true
   },
   "outputs": [
    {
     "data": {
      "text/html": [
       "<div>\n",
       "<style scoped>\n",
       "    .dataframe tbody tr th:only-of-type {\n",
       "        vertical-align: middle;\n",
       "    }\n",
       "\n",
       "    .dataframe tbody tr th {\n",
       "        vertical-align: top;\n",
       "    }\n",
       "\n",
       "    .dataframe thead th {\n",
       "        text-align: right;\n",
       "    }\n",
       "</style>\n",
       "<table border=\"1\" class=\"dataframe\">\n",
       "  <thead>\n",
       "    <tr style=\"text-align: right;\">\n",
       "      <th></th>\n",
       "      <th>text</th>\n",
       "      <th>category</th>\n",
       "    </tr>\n",
       "  </thead>\n",
       "  <tbody>\n",
       "    <tr>\n",
       "      <th>9661</th>\n",
       "      <td>Truly Human Leadership-Part 2: Management and ...</td>\n",
       "      <td>BUSINESS</td>\n",
       "    </tr>\n",
       "    <tr>\n",
       "      <th>1615</th>\n",
       "      <td>5 Things Customers May Not Tell You Before The...</td>\n",
       "      <td>BUSINESS</td>\n",
       "    </tr>\n",
       "    <tr>\n",
       "      <th>4387</th>\n",
       "      <td>4 Ways Your For-Profit Business Can Do \"Good\" ...</td>\n",
       "      <td>BUSINESS</td>\n",
       "    </tr>\n",
       "    <tr>\n",
       "      <th>6054</th>\n",
       "      <td>Here's What Companies Need To Do To Get Wellne...</td>\n",
       "      <td>BUSINESS</td>\n",
       "    </tr>\n",
       "    <tr>\n",
       "      <th>7762</th>\n",
       "      <td>Governor Scott Walker vs. Unions It is hard to...</td>\n",
       "      <td>BUSINESS</td>\n",
       "    </tr>\n",
       "    <tr>\n",
       "      <th>...</th>\n",
       "      <td>...</td>\n",
       "      <td>...</td>\n",
       "    </tr>\n",
       "    <tr>\n",
       "      <th>9744</th>\n",
       "      <td>How To Deal With These 3 Difficult Managers At...</td>\n",
       "      <td>BUSINESS</td>\n",
       "    </tr>\n",
       "    <tr>\n",
       "      <th>6967</th>\n",
       "      <td>What's Your Meeting Brand? Many leaders operat...</td>\n",
       "      <td>BUSINESS</td>\n",
       "    </tr>\n",
       "    <tr>\n",
       "      <th>7415</th>\n",
       "      <td>Here's What Big Banks Won't Say About Their An...</td>\n",
       "      <td>BUSINESS</td>\n",
       "    </tr>\n",
       "    <tr>\n",
       "      <th>4686</th>\n",
       "      <td>The Need for Private-Public Partnerships Again...</td>\n",
       "      <td>BUSINESS</td>\n",
       "    </tr>\n",
       "    <tr>\n",
       "      <th>6715</th>\n",
       "      <td>Cognitive Dissonance on Greenhouse Gases The t...</td>\n",
       "      <td>BUSINESS</td>\n",
       "    </tr>\n",
       "  </tbody>\n",
       "</table>\n",
       "<p>1381 rows × 2 columns</p>\n",
       "</div>"
      ],
      "text/plain": [
       "                                                   text  category\n",
       "9661  Truly Human Leadership-Part 2: Management and ...  BUSINESS\n",
       "1615  5 Things Customers May Not Tell You Before The...  BUSINESS\n",
       "4387  4 Ways Your For-Profit Business Can Do \"Good\" ...  BUSINESS\n",
       "6054  Here's What Companies Need To Do To Get Wellne...  BUSINESS\n",
       "7762  Governor Scott Walker vs. Unions It is hard to...  BUSINESS\n",
       "...                                                 ...       ...\n",
       "9744  How To Deal With These 3 Difficult Managers At...  BUSINESS\n",
       "6967  What's Your Meeting Brand? Many leaders operat...  BUSINESS\n",
       "7415  Here's What Big Banks Won't Say About Their An...  BUSINESS\n",
       "4686  The Need for Private-Public Partnerships Again...  BUSINESS\n",
       "6715  Cognitive Dissonance on Greenhouse Gases The t...  BUSINESS\n",
       "\n",
       "[1381 rows x 2 columns]"
      ]
     },
     "execution_count": 59,
     "metadata": {},
     "output_type": "execute_result"
    }
   ],
   "source": [
    "# To handle the class imbalance, there are different techniques, like over-sampling, etc.\n",
    "\n",
    "min_samples = 1381\n",
    "df_business = df[df.category==\"BUSINESS\"].sample(min_samples, random_state=6)\n",
    "df_business"
   ]
  },
  {
   "cell_type": "code",
   "execution_count": 60,
   "id": "afdc8322-8dbf-429f-8322-13d077ca1ee9",
   "metadata": {},
   "outputs": [],
   "source": [
    "# let's do it for the other categories, as well\n",
    "min_samples = 1381\n",
    "\n",
    "df_sports = df[df.category==\"SPORTS\"].sample(min_samples, random_state=6)\n",
    "df_crime = df[df.category==\"CRIME\"].sample(min_samples, random_state=6)\n",
    "df_science = df[df.category==\"SCIENCE\"].sample(min_samples, random_state=6)"
   ]
  },
  {
   "cell_type": "code",
   "execution_count": 61,
   "id": "e31587de-28a7-4e8d-b77b-c650538fddee",
   "metadata": {
    "scrolled": true
   },
   "outputs": [
    {
     "data": {
      "text/plain": [
       "category\n",
       "BUSINESS    1381\n",
       "SPORTS      1381\n",
       "CRIME       1381\n",
       "SCIENCE     1381\n",
       "Name: count, dtype: int64"
      ]
     },
     "execution_count": 61,
     "metadata": {},
     "output_type": "execute_result"
    }
   ],
   "source": [
    "df_balanced = pd.concat([df_business, df_sports, df_crime, df_science], axis=0)\n",
    "df_balanced.category.value_counts() # now we have a balanced dataset!"
   ]
  },
  {
   "cell_type": "code",
   "execution_count": 62,
   "id": "99963c80-310f-4462-9726-3331725373e3",
   "metadata": {},
   "outputs": [
    {
     "data": {
      "text/html": [
       "<div>\n",
       "<style scoped>\n",
       "    .dataframe tbody tr th:only-of-type {\n",
       "        vertical-align: middle;\n",
       "    }\n",
       "\n",
       "    .dataframe tbody tr th {\n",
       "        vertical-align: top;\n",
       "    }\n",
       "\n",
       "    .dataframe thead th {\n",
       "        text-align: right;\n",
       "    }\n",
       "</style>\n",
       "<table border=\"1\" class=\"dataframe\">\n",
       "  <thead>\n",
       "    <tr style=\"text-align: right;\">\n",
       "      <th></th>\n",
       "      <th>text</th>\n",
       "      <th>category</th>\n",
       "      <th>category_num</th>\n",
       "    </tr>\n",
       "  </thead>\n",
       "  <tbody>\n",
       "    <tr>\n",
       "      <th>9661</th>\n",
       "      <td>Truly Human Leadership-Part 2: Management and ...</td>\n",
       "      <td>BUSINESS</td>\n",
       "      <td>0</td>\n",
       "    </tr>\n",
       "    <tr>\n",
       "      <th>1615</th>\n",
       "      <td>5 Things Customers May Not Tell You Before The...</td>\n",
       "      <td>BUSINESS</td>\n",
       "      <td>0</td>\n",
       "    </tr>\n",
       "    <tr>\n",
       "      <th>4387</th>\n",
       "      <td>4 Ways Your For-Profit Business Can Do \"Good\" ...</td>\n",
       "      <td>BUSINESS</td>\n",
       "      <td>0</td>\n",
       "    </tr>\n",
       "    <tr>\n",
       "      <th>6054</th>\n",
       "      <td>Here's What Companies Need To Do To Get Wellne...</td>\n",
       "      <td>BUSINESS</td>\n",
       "      <td>0</td>\n",
       "    </tr>\n",
       "    <tr>\n",
       "      <th>7762</th>\n",
       "      <td>Governor Scott Walker vs. Unions It is hard to...</td>\n",
       "      <td>BUSINESS</td>\n",
       "      <td>0</td>\n",
       "    </tr>\n",
       "  </tbody>\n",
       "</table>\n",
       "</div>"
      ],
      "text/plain": [
       "                                                   text  category  \\\n",
       "9661  Truly Human Leadership-Part 2: Management and ...  BUSINESS   \n",
       "1615  5 Things Customers May Not Tell You Before The...  BUSINESS   \n",
       "4387  4 Ways Your For-Profit Business Can Do \"Good\" ...  BUSINESS   \n",
       "6054  Here's What Companies Need To Do To Get Wellne...  BUSINESS   \n",
       "7762  Governor Scott Walker vs. Unions It is hard to...  BUSINESS   \n",
       "\n",
       "      category_num  \n",
       "9661             0  \n",
       "1615             0  \n",
       "4387             0  \n",
       "6054             0  \n",
       "7762             0  "
      ]
     },
     "execution_count": 62,
     "metadata": {},
     "output_type": "execute_result"
    }
   ],
   "source": [
    "target\n",
    "df_balanced['category_num'] = df_balanced.category.map({'BUSINESS':0,\n",
    "                                                        'SPORTS':1,\n",
    "                                                        'CRIME':2,\n",
    "                                                        'SCIENCE':3\n",
    "                                                       })\n",
    "\n",
    "df_balanced.head() # we have converted the categories into numbers, like labels, target variables!"
   ]
  },
  {
   "cell_type": "code",
   "execution_count": 63,
   "id": "b24fe443-1add-487b-aee0-c81885cc908c",
   "metadata": {},
   "outputs": [
    {
     "name": "stdout",
     "output_type": "stream",
     "text": [
      "(4419,)\n"
     ]
    },
    {
     "data": {
      "text/plain": [
       "5000    Police: Man Killed By Officers Was Holding Pho...\n",
       "4631    This Enlightened CEO Takes Every Friday Off An...\n",
       "9868    Scientists Crack Mystery Of Tiny Traveling Pla...\n",
       "6461    Russian Long Jumper Darya Klishina To Compete ...\n",
       "3592    The Power of Doing Something Meaningful with V...\n",
       "Name: text, dtype: object"
      ]
     },
     "execution_count": 63,
     "metadata": {},
     "output_type": "execute_result"
    }
   ],
   "source": [
    "from sklearn.model_selection import train_test_split\n",
    "\n",
    "X_train, X_test, y_train, y_test = train_test_split(\n",
    "    df_balanced.text,\n",
    "    df_balanced.category_num,\n",
    "    test_size=0.2,\n",
    "    random_state=6,\n",
    "    stratify=df_balanced.category_num)\n",
    "\n",
    "print(X_train.shape)\n",
    "X_train.head()"
   ]
  },
  {
   "cell_type": "code",
   "execution_count": 64,
   "id": "cc129b12-0534-4d66-bd35-ae518702b26c",
   "metadata": {},
   "outputs": [
    {
     "data": {
      "text/plain": [
       "category_num\n",
       "0    1105\n",
       "3    1105\n",
       "1    1105\n",
       "2    1104\n",
       "Name: count, dtype: int64"
      ]
     },
     "execution_count": 64,
     "metadata": {},
     "output_type": "execute_result"
    }
   ],
   "source": [
    "y_train.value_counts() # we have stratified the vategories!"
   ]
  },
  {
   "cell_type": "code",
   "execution_count": 65,
   "id": "3d037a88-9887-4acf-8bb0-12a7190c8d44",
   "metadata": {
    "scrolled": true
   },
   "outputs": [
    {
     "name": "stdout",
     "output_type": "stream",
     "text": [
      "              precision    recall  f1-score   support\n",
      "\n",
      "           0       0.71      0.91      0.79       276\n",
      "           1       0.96      0.82      0.88       276\n",
      "           2       0.88      0.86      0.87       277\n",
      "           3       0.89      0.79      0.84       276\n",
      "\n",
      "    accuracy                           0.84      1105\n",
      "   macro avg       0.86      0.84      0.85      1105\n",
      "weighted avg       0.86      0.84      0.85      1105\n",
      "\n"
     ]
    }
   ],
   "source": [
    "from sklearn.naive_bayes import MultinomialNB\n",
    "from sklearn.pipeline import Pipeline\n",
    "from sklearn.metrics import classification_report\n",
    "from sklearn.feature_extraction.text import CountVectorizer\n",
    "\n",
    "clf = Pipeline([\n",
    "    ('vectorizer_bow', CountVectorizer(ngram_range=(1,2))),\n",
    "    ('Multi NB', MultinomialNB())\n",
    "])\n",
    "\n",
    "clf.fit(X_train, y_train)\n",
    "\n",
    "y_pred = clf.predict(X_test)\n",
    "\n",
    "print(classification_report(y_test, y_pred))"
   ]
  },
  {
   "cell_type": "code",
   "execution_count": 69,
   "id": "365315cc-0ebc-4906-b7ee-118e4c7572d7",
   "metadata": {},
   "outputs": [
    {
     "data": {
      "text/html": [
       "<div>\n",
       "<style scoped>\n",
       "    .dataframe tbody tr th:only-of-type {\n",
       "        vertical-align: middle;\n",
       "    }\n",
       "\n",
       "    .dataframe tbody tr th {\n",
       "        vertical-align: top;\n",
       "    }\n",
       "\n",
       "    .dataframe thead th {\n",
       "        text-align: right;\n",
       "    }\n",
       "</style>\n",
       "<table border=\"1\" class=\"dataframe\">\n",
       "  <thead>\n",
       "    <tr style=\"text-align: right;\">\n",
       "      <th></th>\n",
       "      <th>text</th>\n",
       "      <th>category</th>\n",
       "      <th>category_num</th>\n",
       "      <th>preprocessed_text</th>\n",
       "      <th>preprocessed_text_fixed</th>\n",
       "    </tr>\n",
       "  </thead>\n",
       "  <tbody>\n",
       "    <tr>\n",
       "      <th>9661</th>\n",
       "      <td>Truly Human Leadership-Part 2: Management and ...</td>\n",
       "      <td>BUSINESS</td>\n",
       "      <td>0</td>\n",
       "      <td>Truly Human Leadership 2 Management Leadership...</td>\n",
       "      <td>Truly Human Leadership 2 Management Leadership...</td>\n",
       "    </tr>\n",
       "    <tr>\n",
       "      <th>1615</th>\n",
       "      <td>5 Things Customers May Not Tell You Before The...</td>\n",
       "      <td>BUSINESS</td>\n",
       "      <td>0</td>\n",
       "      <td>5 Things Customers Tell Leave Good hired secre...</td>\n",
       "      <td>5 Things Customers Tell Leave Good hired secre...</td>\n",
       "    </tr>\n",
       "    <tr>\n",
       "      <th>4387</th>\n",
       "      <td>4 Ways Your For-Profit Business Can Do \"Good\" ...</td>\n",
       "      <td>BUSINESS</td>\n",
       "      <td>0</td>\n",
       "      <td>4 Ways Profit Business Good businesses concern...</td>\n",
       "      <td>4 Ways Profit Business Good businesses concern...</td>\n",
       "    </tr>\n",
       "    <tr>\n",
       "      <th>6054</th>\n",
       "      <td>Here's What Companies Need To Do To Get Wellne...</td>\n",
       "      <td>BUSINESS</td>\n",
       "      <td>0</td>\n",
       "      <td>Companies Need Wellness Programs Right</td>\n",
       "      <td>Companies Need Wellness Programs Right</td>\n",
       "    </tr>\n",
       "    <tr>\n",
       "      <th>7762</th>\n",
       "      <td>Governor Scott Walker vs. Unions It is hard to...</td>\n",
       "      <td>BUSINESS</td>\n",
       "      <td>0</td>\n",
       "      <td>Governor Scott Walker vs. Unions hard believe ...</td>\n",
       "      <td>Governor Scott Walker vs. Unions hard believe ...</td>\n",
       "    </tr>\n",
       "  </tbody>\n",
       "</table>\n",
       "</div>"
      ],
      "text/plain": [
       "                                                   text  category  \\\n",
       "9661  Truly Human Leadership-Part 2: Management and ...  BUSINESS   \n",
       "1615  5 Things Customers May Not Tell You Before The...  BUSINESS   \n",
       "4387  4 Ways Your For-Profit Business Can Do \"Good\" ...  BUSINESS   \n",
       "6054  Here's What Companies Need To Do To Get Wellne...  BUSINESS   \n",
       "7762  Governor Scott Walker vs. Unions It is hard to...  BUSINESS   \n",
       "\n",
       "      category_num                                  preprocessed_text  \\\n",
       "9661             0  Truly Human Leadership 2 Management Leadership...   \n",
       "1615             0  5 Things Customers Tell Leave Good hired secre...   \n",
       "4387             0  4 Ways Profit Business Good businesses concern...   \n",
       "6054             0             Companies Need Wellness Programs Right   \n",
       "7762             0  Governor Scott Walker vs. Unions hard believe ...   \n",
       "\n",
       "                                preprocessed_text_fixed  \n",
       "9661  Truly Human Leadership 2 Management Leadership...  \n",
       "1615  5 Things Customers Tell Leave Good hired secre...  \n",
       "4387  4 Ways Profit Business Good businesses concern...  \n",
       "6054             Companies Need Wellness Programs Right  \n",
       "7762  Governor Scott Walker vs. Unions hard believe ...  "
      ]
     },
     "execution_count": 69,
     "metadata": {},
     "output_type": "execute_result"
    }
   ],
   "source": [
    "# We apply stopword removal and lemmatization here:\n",
    "\n",
    "import spacy\n",
    "nlp = spacy.load(\"en_core_web_sm\")\n",
    "\n",
    "def preprocess(text):\n",
    "    doc = nlp(text)\n",
    "\n",
    "    # Filter out stop words and punctuation...\n",
    "    filtered_tokens = [token.text for token in doc if not token.is_stop and not token.is_punct]\n",
    "    \n",
    "    # ...and join them back into a single string! This is the fix.\n",
    "    return \" \".join(filtered_tokens)\n",
    "\n",
    "# Now, let's apply this fixed function\n",
    "df_balanced['preprocessed_text'] = df_balanced.text.apply(preprocess)\n",
    "df_balanced.head()"
   ]
  },
  {
   "cell_type": "code",
   "execution_count": 70,
   "id": "8f15aa5d-42c5-4e36-b06d-850a7fec7a8b",
   "metadata": {
    "scrolled": true
   },
   "outputs": [
    {
     "name": "stdout",
     "output_type": "stream",
     "text": [
      "(4419,)\n",
      "              precision    recall  f1-score   support\n",
      "\n",
      "           0       0.83      0.91      0.87       276\n",
      "           1       0.93      0.89      0.91       276\n",
      "           2       0.88      0.93      0.90       277\n",
      "           3       0.90      0.80      0.85       276\n",
      "\n",
      "    accuracy                           0.88      1105\n",
      "   macro avg       0.88      0.88      0.88      1105\n",
      "weighted avg       0.88      0.88      0.88      1105\n",
      "\n"
     ]
    }
   ],
   "source": [
    "# Time to train the model now:\n",
    "\n",
    "X_train, X_test, y_train, y_test = train_test_split(\n",
    "    df_balanced.preprocessed_text,\n",
    "    df_balanced.category_num,\n",
    "    test_size=0.2,\n",
    "    random_state=6,\n",
    "    stratify=df_balanced.category_num)\n",
    "\n",
    "print(X_train.shape)\n",
    "X_train.head()\n",
    "\n",
    "\n",
    "clf = Pipeline([\n",
    "    ('vectorizer_bow', CountVectorizer(ngram_range=(1,2))),\n",
    "    ('Multi NB', MultinomialNB())\n",
    "])\n",
    "\n",
    "clf.fit(X_train, y_train)\n",
    "\n",
    "y_pred = clf.predict(X_test)\n",
    "\n",
    "print(classification_report(y_test, y_pred))"
   ]
  },
  {
   "cell_type": "code",
   "execution_count": 71,
   "id": "298f3200-dbe3-49de-875f-ddb64c1e6870",
   "metadata": {},
   "outputs": [],
   "source": [
    "# Now that our preprocessed text is fixed, let's unleash some new models on it\n",
    "# We need to do a new train-test split on this clean data\n",
    "\n",
    "X_train, X_test, y_train, y_test = train_test_split(\n",
    "    df_balanced.preprocessed_text_fixed,  # Using our fixed preprocessed text!\n",
    "    df_balanced.category_num,\n",
    "    test_size=0.2,\n",
    "    random_state=6,\n",
    "    stratify=df_balanced.category_num\n",
    ")"
   ]
  },
  {
   "cell_type": "code",
   "execution_count": 72,
   "id": "da99ec92-f21b-46d4-a16c-c401a0528f4e",
   "metadata": {},
   "outputs": [
    {
     "name": "stdout",
     "output_type": "stream",
     "text": [
      "--- Training Logistic Regression Model ---\n",
      "\n",
      "Classification Report (Logistic Regression):\n",
      "              precision    recall  f1-score   support\n",
      "\n",
      "           0       0.84      0.85      0.84       276\n",
      "           1       0.91      0.86      0.88       276\n",
      "           2       0.90      0.89      0.89       277\n",
      "           3       0.81      0.86      0.83       276\n",
      "\n",
      "    accuracy                           0.86      1105\n",
      "   macro avg       0.86      0.86      0.86      1105\n",
      "weighted avg       0.86      0.86      0.86      1105\n",
      "\n",
      "\n",
      "--- Training Support Vector Machine (SVM) Model ---\n",
      "\n",
      "Classification Report (Linear SVM):\n",
      "              precision    recall  f1-score   support\n",
      "\n",
      "           0       0.82      0.84      0.83       276\n",
      "           1       0.91      0.83      0.87       276\n",
      "           2       0.88      0.88      0.88       277\n",
      "           3       0.81      0.86      0.83       276\n",
      "\n",
      "    accuracy                           0.85      1105\n",
      "   macro avg       0.86      0.85      0.85      1105\n",
      "weighted avg       0.86      0.85      0.85      1105\n",
      "\n"
     ]
    }
   ],
   "source": [
    "# Let's try some different models and see if we can beat the Naive Bayes score!\n",
    "from sklearn.linear_model import LogisticRegression\n",
    "from sklearn.svm import LinearSVC\n",
    "\n",
    "# --- Model 2: Logistic Regression ---\n",
    "# This is another great model for text classification. Let's see how it does.\n",
    "print(\"--- Training Logistic Regression Model ---\")\n",
    "\n",
    "model_logreg = Pipeline([\n",
    "    ('vectorizer_bow', CountVectorizer(ngram_range=(1,2))),\n",
    "    ('Logistic Regression', LogisticRegression(max_iter=1000)) # Increased max_iter to ensure convergence\n",
    "])\n",
    "\n",
    "# Train the model\n",
    "model_logreg.fit(X_train, y_train)\n",
    "\n",
    "# Make predictions and check the report\n",
    "y_pred_logreg = model_logreg.predict(X_test)\n",
    "\n",
    "print(\"\\nClassification Report (Logistic Regression):\")\n",
    "print(classification_report(y_test, y_pred_logreg))\n",
    "\n",
    "\n",
    "# --- Model 3: Support Vector Machine (SVM) ---\n",
    "# Now for the famous SVM! Let's see if it can handle this.\n",
    "print(\"\\n--- Training Support Vector Machine (SVM) Model ---\")\n",
    "\n",
    "model_svm = Pipeline([\n",
    "    ('vectorizer_bow', CountVectorizer(ngram_range=(1,2))),\n",
    "    ('Linear SVM', LinearSVC())\n",
    "])\n",
    "\n",
    "# Train the model\n",
    "model_svm.fit(X_train, y_train)\n",
    "\n",
    "# Make predictions and check the report\n",
    "y_pred_svm = model_svm.predict(X_test)\n",
    "\n",
    "print(\"\\nClassification Report (Linear SVM):\")\n",
    "print(classification_report(y_test, y_pred_svm))"
   ]
  },
  {
   "cell_type": "markdown",
   "id": "53d75c90-d61c-4e37-871a-1cc28a8833cc",
   "metadata": {},
   "source": [
    "# Conclusion & Model Comparison\n",
    "This project successfully built and evaluated several models for news category classification. After addressing a significant class imbalance by down-sampling, we compared the performance of three different machine learning algorithms.\n",
    "\n",
    "Here's a summary of the best accuracy achieved by each model on the preprocessed text:\n",
    "\n",
    "- **Multinomial Naive Bayes (MNB) was the top performer.** This isn't surprising for a text classification task like this one. MNB is specifically designed for features that are counts (like word counts from CountVectorizer) and often works exceptionally well with high-dimensional data like a large text vocabulary, even with a relatively small dataset. Its probabilistic nature is a great fit for this kind of problem.\n",
    "\n",
    "- **Text preprocessing was crucial.** Our first Naive Bayes model, trained on raw text, achieved an accuracy of 84%. After cleaning the text by removing stop words and punctuation, the accuracy jumped to 88%. This shows that removing common, non-descriptive words allowed the model to focus on more meaningful terms, leading to a significant performance boost.\n",
    "\n",
    "- **Logistic Regression and SVM were strong contenders but fell slightly short.** Both are powerful and versatile classifiers. However, they might require more data or hyperparameter tuning (e.g., adjusting the regularization parameter C) to outperform a well-suited Naive Bayes model. In this specific case, Naive Bayes' assumptions seem to align perfectly with our data's characteristics.\n",
    "\n",
    "In summary, this analysis shows that for this dataset, a **Multinomial Naive Bayes classifier combined with effective text preprocessing** is the most effective solution for this task."
   ]
  }
 ],
 "metadata": {
  "kernelspec": {
   "display_name": "Python [conda env:base] *",
   "language": "python",
   "name": "conda-base-py"
  },
  "language_info": {
   "codemirror_mode": {
    "name": "ipython",
    "version": 3
   },
   "file_extension": ".py",
   "mimetype": "text/x-python",
   "name": "python",
   "nbconvert_exporter": "python",
   "pygments_lexer": "ipython3",
   "version": "3.12.7"
  }
 },
 "nbformat": 4,
 "nbformat_minor": 5
}
